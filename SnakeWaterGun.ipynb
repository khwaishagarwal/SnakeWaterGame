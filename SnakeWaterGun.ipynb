{
 "cells": [
  {
   "cell_type": "code",
   "execution_count": 20,
   "id": "941691b0-1208-4c04-b1dc-66db8d6c7bde",
   "metadata": {},
   "outputs": [
    {
     "name": "stdin",
     "output_type": "stream",
     "text": [
      "Enter your choice (snake, water, gun): gun\n"
     ]
    },
    {
     "name": "stdout",
     "output_type": "stream",
     "text": [
      "You chose gun\n",
      "Computer chose snake\n",
      "You Win!\n"
     ]
    }
   ],
   "source": [
    "import random\n",
    "'''\n",
    "1 for snake\n",
    "-1 for water\n",
    "0 for gun\n",
    "'''\n",
    "youstr=input(\"Enter your choice (snake, water, gun):\")\n",
    "youDict={\"snake\":1, \"water\":-1,\"gun\":0}\n",
    "compDict={1:\"snake\", -1:\"water\", 0:\"gun\"}\n",
    "computer = random.choice([-1,0,1])\n",
    "you=youDict[youstr.lower()]\n",
    "print(f\"You chose {youstr.lower()}\")\n",
    "print(f\"Computer chose {compDict[computer]}\")\n",
    "if(computer == you):\n",
    "    print(\"It's a Tie\")\n",
    "elif(computer == -1 and you == 1):\n",
    "    print(\"You Win!\")\n",
    "elif(computer == -1 and you == 0):\n",
    "    print(\"You Lose!\")\n",
    "elif(computer == 1 and you == -1):\n",
    "    print(\"You Lose!\")\n",
    "elif(computer == 1 and you == 0):\n",
    "    print(\"You Win!\")\n",
    "elif(computer == 0 and you == -1):\n",
    "    print(\"You Win!\")\n",
    "elif(computer == 0 and you == 1):\n",
    "    print(\"You Lose!\")\n",
    "else:\n",
    "    print(\"Error!\")"
   ]
  },
  {
   "cell_type": "code",
   "execution_count": 25,
   "id": "96717bfe-d3d3-4888-a124-02c35468c3da",
   "metadata": {},
   "outputs": [
    {
     "name": "stdin",
     "output_type": "stream",
     "text": [
      "Enter your choice (snake, water, gun): snake\n"
     ]
    },
    {
     "name": "stdout",
     "output_type": "stream",
     "text": [
      "You chose snake\n",
      "Computer chose water\n",
      "You Win!\n"
     ]
    }
   ],
   "source": [
    "#shortened code for the above game\n",
    "\n",
    "'''\n",
    "elif(computer == -1 and you == 1):\n",
    "    print(\"You Win!\")  #-2\n",
    "elif(computer == -1 and you == 0):\n",
    "    print(\"You Lose!\")  #-1\n",
    "elif(computer == 1 and you == -1):\n",
    "    print(\"You Lose!\")  #2\n",
    "elif(computer == 1 and you == 0):\n",
    "    print(\"You Win!\")  #1\n",
    "elif(computer == 0 and you == -1):\n",
    "    print(\"You Win!\")  #1\n",
    "elif(computer == 0 and you == 1):\n",
    "    print(\"You Lose!\")  #-1\n",
    "'''\n",
    "\n",
    "import random\n",
    "\n",
    "'''\n",
    "1 for snake\n",
    "-1 for water\n",
    "0 for gun\n",
    "'''\n",
    "youstr=input(\"Enter your choice (snake, water, gun):\")\n",
    "youDict={\"snake\":1, \"water\":-1,\"gun\":0}\n",
    "compDict={1:\"snake\", -1:\"water\", 0:\"gun\"}\n",
    "computer = random.choice([-1,0,1])\n",
    "you=youDict[youstr.lower()]\n",
    "print(f\"You chose {youstr.lower()}\")\n",
    "print(f\"Computer chose {compDict[computer]}\")\n",
    "if(computer == you):\n",
    "    print(\"It's a Tie\")\n",
    "elif(((computer-you)==1) or ((computer-you)==-2)):\n",
    "    print(\"You Win!\")\n",
    "elif(((computer-you)==-1) or ((computer-you)==2)):\n",
    "    print(\"You Lose!\")\n",
    "else:\n",
    "    print(\"Error!\")"
   ]
  },
  {
   "cell_type": "code",
   "execution_count": null,
   "id": "fb0fd622-c863-4ec7-84be-c5ce0c3e0321",
   "metadata": {},
   "outputs": [],
   "source": []
  }
 ],
 "metadata": {
  "kernelspec": {
   "display_name": "Python 3 (ipykernel)",
   "language": "python",
   "name": "python3"
  },
  "language_info": {
   "codemirror_mode": {
    "name": "ipython",
    "version": 3
   },
   "file_extension": ".py",
   "mimetype": "text/x-python",
   "name": "python",
   "nbconvert_exporter": "python",
   "pygments_lexer": "ipython3",
   "version": "3.11.5"
  }
 },
 "nbformat": 4,
 "nbformat_minor": 5
}
